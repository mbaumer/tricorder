{
 "cells": [
  {
   "cell_type": "code",
   "execution_count": 23,
   "metadata": {
    "collapsed": false
   },
   "outputs": [
    {
     "data": {
      "image/png": "[encoded data removed]",
      "text/plain": [
       "PyPlot.Figure(PyObject <matplotlib.figure.Figure object at 0x317ef01d0>)"
      ]
     },
     "metadata": {},
     "output_type": "display_data"
    },
    {
     "data": {
      "text/plain": [
       "PyObject <matplotlib.collections.PathCollection object at 0x31863d450>"
      ]
     },
     "execution_count": 23,
     "metadata": {},
     "output_type": "execute_result"
    }
   ],
   "source": [
    "using PyPlot\n",
    "points = rand(30,2)\n",
    "scatter(points[:,1],points[:,2])"
   ]
  },
  {
   "cell_type": "markdown",
   "metadata": {},
   "source": [
    "## Compute side lengths for all possible triangles from points"
   ]
  },
  {
   "cell_type": "code",
   "execution_count": 19,
   "metadata": {
    "collapsed": false
   },
   "outputs": [
    {
     "data": {
      "text/plain": [
       "compute_side_lengths (generic function with 1 method)"
      ]
     },
     "execution_count": 19,
     "metadata": {},
     "output_type": "execute_result"
    }
   ],
   "source": [
    "function compute_side_lengths(points)\n",
    "    sidesarr = [0,0,0]\n",
    "    for i = collect(1:size(points)[1])\n",
    "        for j = collect(1:size(points)[1])\n",
    "            for k = collect(1:size(points)[1])\n",
    "                d1 = hypot(abs(points[i,1]-points[j,1]),abs(points[i,2]-points[j,2]))\n",
    "                d2 = hypot(abs(points[k,1]-points[j,1]),abs(points[k,2]-points[j,2]))\n",
    "                d3 = hypot(abs(points[i,1]-points[k,1]),abs(points[i,2]-points[k,2]))\n",
    "                sidesarr = hcat(sidesarr,[d1,d2,d3])\n",
    "            end\n",
    "        end\n",
    "    end\n",
    "\n",
    "    goodtriangles = [0,0,0]\n",
    "    for i in [1:size(sidesarr)[2]]\n",
    "        if !(0 in sidesarr[:,i])\n",
    "            goodtriangles = hcat(goodtriangles,sidesarr[:,i])\n",
    "        end\n",
    "    end\n",
    "    goodtriangles = goodtriangles[:,2:end]\n",
    "    return goodtriangles\n",
    "end"
   ]
  },
  {
   "cell_type": "markdown",
   "metadata": {},
   "source": [
    "## Implement treecorr and ntropy selections\n",
    "* need to have v requirements symmetric in treecorr for homebrew and package to agree"
   ]
  },
  {
   "cell_type": "code",
   "execution_count": 67,
   "metadata": {
    "collapsed": false
   },
   "outputs": [
    {
     "data": {
      "text/plain": [
       "filterTriangles (generic function with 2 methods)"
      ]
     },
     "execution_count": 67,
     "metadata": {},
     "output_type": "execute_result"
    }
   ],
   "source": [
    "maxr = .6\n",
    "minr = .5\n",
    "maxu = 1.0\n",
    "minu = .95\n",
    "maxv = .05\n",
    "minv = -.05\n",
    "\n",
    "function filterTriangles(goodtriangles,binning=\"treecorr\")\n",
    "    mytriangles = [0,0,0]\n",
    "    for i in collect(1:size(goodtriangles)[2])\n",
    "        thistri = goodtriangles[:,i]\n",
    "        sorted = sort(thistri,rev=true)\n",
    "        r = sorted[2]\n",
    "        u = sorted[3]/sorted[2]\n",
    "        v = (sorted[1]-sorted[2])/sorted[3]\n",
    "        if (binning == \"treecorr\")\n",
    "            if (minr < r <maxr) & (minu < u < maxu) & (minv < v < maxv)\n",
    "                #print(r,\" \",u,\" \",v,\"\\n\")\n",
    "                mytriangles = hcat(mytriangles,thistri)\n",
    "            end\n",
    "        end\n",
    "        if binning == \"ntropy\"\n",
    "            #if all((thistri .> minu*minr) & (thistri .< (1+maxv)*maxr))\n",
    "            if all((thistri .> minr) & (thistri .< maxr))\n",
    "                #print(r,\" \",u,\" \",v,\"\\n\")\n",
    "                mytriangles = hcat(mytriangles,thistri)\n",
    "            end\n",
    "        end\n",
    "    end\n",
    "    mytriangles = mytriangles[:,2:end]\n",
    "    return mytriangles\n",
    "end"
   ]
  },
  {
   "cell_type": "markdown",
   "metadata": {},
   "source": [
    "## Run unit tests"
   ]
  },
  {
   "cell_type": "code",
   "execution_count": 5,
   "metadata": {
    "collapsed": true
   },
   "outputs": [],
   "source": [
    "using PyCall\n",
    "@pyimport treecorr"
   ]
  },
  {
   "cell_type": "code",
   "execution_count": 70,
   "metadata": {
    "collapsed": false
   },
   "outputs": [],
   "source": [
    "#compute treecorr prediction\n",
    "nnn = treecorr.NNNCorrelation(min_sep=minr, max_sep=maxr, nbins=1, min_u=minu,\n",
    "max_u=maxu, nubins=1, min_v=minv, max_v=maxv, nvbins=1, bin_slop=0, sep_units=\"arcmin\")\n",
    "cat = treecorr.Catalog(ra=points[:,1],dec=points[:,2],ra_units=\"arcmin\",dec_units=\"arcmin\")\n",
    "nnn[:process](cat)"
   ]
  },
  {
   "cell_type": "code",
   "execution_count": 71,
   "metadata": {
    "collapsed": false
   },
   "outputs": [
    {
     "name": "stdout",
     "output_type": "stream",
     "text": [
      "treecorr homebrew finds 3.0 unique triangles \n",
      "treecorr package finds 3.0 unique triangles \n",
      "ntropy homebrew finds 11.0 unique triangles"
     ]
    }
   ],
   "source": [
    "goodtriangles = compute_side_lengths(points)\n",
    "print(\"treecorr homebrew finds \",size(filterTriangles(goodtriangles,\"treecorr\"))[2]/6,\" unique triangles \\n\")\n",
    "print(\"treecorr package finds \",nnn[:ntri][1],\" unique triangles \\n\")\n",
    "print(\"ntropy homebrew finds \",size(filterTriangles(goodtriangles,\"ntropy\"))[2]/6,\" unique triangles\")\n",
    "#/3 for array size; /2 for sides counted both ways; /3 for 3 ways to list sides"
   ]
  },
  {
   "cell_type": "code",
   "execution_count": 72,
   "metadata": {
    "collapsed": false
   },
   "outputs": [
    {
     "data": {
      "text/plain": [
       "3x18 Array{Float64,2}:\n",
       " 0.558013  0.558071  0.599149  0.583322  …  0.575095  0.583322  0.575095\n",
       " 0.551504  0.551504  0.575095  0.575095     0.583322  0.599149  0.599149\n",
       " 0.558071  0.558013  0.583322  0.599149     0.599149  0.575095  0.583322"
      ]
     },
     "execution_count": 72,
     "metadata": {},
     "output_type": "execute_result"
    }
   ],
   "source": [
    "filterTriangles(goodtriangles,\"treecorr\")"
   ]
  },
  {
   "cell_type": "code",
   "execution_count": 73,
   "metadata": {
    "collapsed": false
   },
   "outputs": [
    {
     "data": {
      "text/plain": [
       "3x66 Array{Float64,2}:\n",
       " 0.558013  0.590089  0.558071  0.599149  …  0.547172  0.547172  0.518871\n",
       " 0.551504  0.518871  0.551504  0.575095     0.555495  0.502512  0.590089\n",
       " 0.558071  0.525954  0.558013  0.583322     0.507955  0.578775  0.525954"
      ]
     },
     "execution_count": 73,
     "metadata": {},
     "output_type": "execute_result"
    }
   ],
   "source": [
    "filterTriangles(goodtriangles,\"ntropy\")"
   ]
  },
  {
   "cell_type": "code",
   "execution_count": 74,
   "metadata": {
    "collapsed": false
   },
   "outputs": [
    {
     "data": {
      "text/plain": [
       "30x2 Array{Float64,2}:\n",
       " 0.713741   0.886015  \n",
       " 0.304132   0.0653257 \n",
       " 0.301147   0.897247  \n",
       " 0.737548   0.00251729\n",
       " 0.870041   0.119599  \n",
       " 0.267677   0.550747  \n",
       " 0.634757   0.489154  \n",
       " 0.0533535  0.478276  \n",
       " 0.198476   0.0305811 \n",
       " 0.567929   0.992821  \n",
       " 0.952182   0.668988  \n",
       " 0.702642   0.15983   \n",
       " 0.630723   0.352156  \n",
       " ⋮                    \n",
       " 0.662211   0.750079  \n",
       " 0.56224    0.704256  \n",
       " 0.445792   0.223329  \n",
       " 0.773685   0.441702  \n",
       " 0.352726   0.407844  \n",
       " 0.586378   0.463758  \n",
       " 0.92403    0.341916  \n",
       " 0.72449    0.972795  \n",
       " 0.656467   0.59027   \n",
       " 0.463111   0.423617  \n",
       " 0.665966   0.465724  \n",
       " 0.736611   0.0787775 "
      ]
     },
     "execution_count": 74,
     "metadata": {},
     "output_type": "execute_result"
    }
   ],
   "source": [
    "points"
   ]
  },
  {
   "cell_type": "code",
   "execution_count": null,
   "metadata": {
    "collapsed": false
   },
   "outputs": [],
   "source": [
    "outfile = open(\"./mike_test.txt\", \"w\")\n",
    "write(outfile,points,\"\\n\")\n",
    "close(outfile)"
   ]
  },
  {
   "cell_type": "code",
   "execution_count": null,
   "metadata": {
    "collapsed": true
   },
   "outputs": [],
   "source": []
  }
 ],
 "metadata": {
  "kernelspec": {
   "display_name": "Julia 0.4.5",
   "language": "julia",
   "name": "julia-0.4"
  },
  "language_info": {
   "file_extension": ".jl",
   "mimetype": "application/julia",
   "name": "julia",
   "version": "0.4.5"
  }
 },
 "nbformat": 4,
 "nbformat_minor": 0
}
