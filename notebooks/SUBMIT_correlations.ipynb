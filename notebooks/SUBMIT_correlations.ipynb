{
 "cells": [
  {
   "cell_type": "code",
   "execution_count": 17,
   "metadata": {},
   "outputs": [],
   "source": [
    "import tricorder\n",
    "import numpy as np"
   ]
  },
  {
   "cell_type": "code",
   "execution_count": 2,
   "metadata": {
    "collapsed": true
   },
   "outputs": [],
   "source": [
    "tricorder.write_default_config('directVbig')"
   ]
  },
  {
   "cell_type": "code",
   "execution_count": 34,
   "metadata": {
    "collapsed": true
   },
   "outputs": [],
   "source": [
    "dset_fname = '/nfs/slac/des/fs1/g/sims/mbaumer/3pt_sims/new/lss_sample/REDSHIFT0.6_0.63nside1024nJack30'\n",
    "#config_fname = '/nfs/slac/des/fs1/g/sims/mbaumer/3pt_sims/new/results/directVbig.config'\n",
    "config_fname = '/nfs/slac/des/fs1/g/sims/mbaumer/3pt_sims/new/results/test3.config'"
   ]
  },
  {
   "cell_type": "code",
   "execution_count": 35,
   "metadata": {},
   "outputs": [],
   "source": [
    "for jk_id in np.arange(30):\n",
    "    corr = tricorder.PixelCorrelation(dset_fname,config_fname,jk_id)\n",
    "    corr.submit()"
   ]
  },
  {
   "cell_type": "code",
   "execution_count": null,
   "metadata": {
    "collapsed": true
   },
   "outputs": [],
   "source": []
  }
 ],
 "metadata": {
  "kernelspec": {
   "display_name": "Python 2",
   "language": "python",
   "name": "python2"
  },
  "language_info": {
   "codemirror_mode": {
    "name": "ipython",
    "version": 2
   },
   "file_extension": ".py",
   "mimetype": "text/x-python",
   "name": "python",
   "nbconvert_exporter": "python",
   "pygments_lexer": "ipython2",
   "version": "2.7.12"
  }
 },
 "nbformat": 4,
 "nbformat_minor": 2
}
