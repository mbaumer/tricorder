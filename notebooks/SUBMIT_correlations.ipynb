{
 "cells": [
  {
   "cell_type": "code",
   "execution_count": null,
   "metadata": {},
   "outputs": [],
   "source": [
    "import tricorder\n",
    "import numpy as np"
   ]
  },
  {
   "cell_type": "code",
   "execution_count": 4,
   "metadata": {
    "collapsed": true
   },
   "outputs": [],
   "source": [
    "tricorder.write_default_config('directVbig_tol25')"
   ]
  },
  {
   "cell_type": "code",
   "execution_count": 11,
   "metadata": {
    "collapsed": true
   },
   "outputs": [],
   "source": [
    "dset_fname = '/nfs/slac/des/fs1/g/sims/mbaumer/3pt_sims/new/dark_matter/DISTANCE0_1nside1024nJack30'\n",
    "config_fname = '/nfs/slac/des/fs1/g/sims/mbaumer/3pt_sims/new/results/directVbig.config'\n",
    "#config_fname = '/nfs/slac/des/fs1/g/sims/mbaumer/3pt_sims/new/results/test3.config'"
   ]
  },
  {
   "cell_type": "code",
   "execution_count": 12,
   "metadata": {
    "collapsed": true
   },
   "outputs": [],
   "source": [
    "for jk_id in np.arange(30):\n",
    "    corr = tricorder.PixelCorrelation(dset_fname,config_fname,jk_id)\n",
    "    corr.submit()"
   ]
  },
  {
   "cell_type": "markdown",
   "metadata": {
    "collapsed": true
   },
   "source": [
    "## Bulk submission"
   ]
  },
  {
   "cell_type": "code",
   "execution_count": 16,
   "metadata": {},
   "outputs": [],
   "source": [
    "from glob import glob\n",
    "dset_fname_vec = glob('/nfs/slac/des/fs1/g/sims/mbaumer/3pt_sims/new/lss_sample/RED*')\n",
    "config_fname = '/nfs/slac/des/fs1/g/sims/mbaumer/3pt_sims/new/results/directVbig_tol25.config'"
   ]
  },
  {
   "cell_type": "code",
   "execution_count": 6,
   "metadata": {
    "collapsed": true
   },
   "outputs": [],
   "source": [
    "config_fname = '/nfs/slac/des/fs1/g/sims/mbaumer/3pt_sims/new/results/directVbig_tol25.config'\n",
    "dset_fname_vec = [\n",
    "'/nfs/slac/des/fs1/g/sims/mbaumer/3pt_sims/new/dark_matter/DISTANCE0.15_0.16nside1024nJack30',\n",
    "'/nfs/slac/des/fs1/g/sims/mbaumer/3pt_sims/new/dark_matter/DISTANCE0.15_0.18nside1024nJack30',\n",
    "'/nfs/slac/des/fs1/g/sims/mbaumer/3pt_sims/new/dark_matter/DISTANCE0.15_0.2nside1024nJack30',\n",
    "'/nfs/slac/des/fs1/g/sims/mbaumer/3pt_sims/new/dark_matter/DISTANCE0.15_0.3nside1024nJack30',\n",
    "'/nfs/slac/des/fs1/g/sims/mbaumer/3pt_sims/new/dark_matter/DISTANCE0.3_0.31nside1024nJack30',\n",
    "'/nfs/slac/des/fs1/g/sims/mbaumer/3pt_sims/new/dark_matter/DISTANCE0.3_0.33nside1024nJack30',\n",
    "'/nfs/slac/des/fs1/g/sims/mbaumer/3pt_sims/new/dark_matter/DISTANCE0.3_0.35nside1024nJack30',\n",
    "'/nfs/slac/des/fs1/g/sims/mbaumer/3pt_sims/new/dark_matter/DISTANCE0.3_0.45nside1024nJack30',\n",
    "'/nfs/slac/des/fs1/g/sims/mbaumer/3pt_sims/new/dark_matter/DISTANCE0.45_0.46nside1024nJack30',\n",
    "'/nfs/slac/des/fs1/g/sims/mbaumer/3pt_sims/new/dark_matter/DISTANCE0.45_0.48nside1024nJack30',\n",
    "'/nfs/slac/des/fs1/g/sims/mbaumer/3pt_sims/new/dark_matter/DISTANCE0.45_0.5nside1024nJack30',\n",
    "'/nfs/slac/des/fs1/g/sims/mbaumer/3pt_sims/new/dark_matter/DISTANCE0.45_0.6nside1024nJack30',\n",
    "'/nfs/slac/des/fs1/g/sims/mbaumer/3pt_sims/new/dark_matter/DISTANCE0.6_0.61nside1024nJack30',\n",
    "'/nfs/slac/des/fs1/g/sims/mbaumer/3pt_sims/new/dark_matter/DISTANCE0.6_0.63nside1024nJack30',\n",
    "'/nfs/slac/des/fs1/g/sims/mbaumer/3pt_sims/new/dark_matter/DISTANCE0.6_0.65nside1024nJack30',\n",
    "'/nfs/slac/des/fs1/g/sims/mbaumer/3pt_sims/new/dark_matter/DISTANCE0.6_0.75nside1024nJack30',\n",
    "'/nfs/slac/des/fs1/g/sims/mbaumer/3pt_sims/new/dark_matter/DISTANCE0.75_0.9nside1024nJack30']"
   ]
  },
  {
   "cell_type": "code",
   "execution_count": 17,
   "metadata": {
    "collapsed": true
   },
   "outputs": [],
   "source": [
    "for dset_fname in dset_fname_vec:\n",
    "    for jk_id in np.arange(30):\n",
    "        corr = tricorder.PixelCorrelation(dset_fname,config_fname,jk_id)\n",
    "        corr.submit()"
   ]
  },
  {
   "cell_type": "code",
   "execution_count": null,
   "metadata": {
    "collapsed": true
   },
   "outputs": [],
   "source": []
  }
 ],
 "metadata": {
  "kernelspec": {
   "display_name": "Python 2",
   "language": "python",
   "name": "python2"
  },
  "language_info": {
   "codemirror_mode": {
    "name": "ipython",
    "version": 2
   },
   "file_extension": ".py",
   "mimetype": "text/x-python",
   "name": "python",
   "nbconvert_exporter": "python",
   "pygments_lexer": "ipython2",
   "version": "2.7.12"
  }
 },
 "nbformat": 4,
 "nbformat_minor": 2
}
