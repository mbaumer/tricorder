{
 "cells": [
  {
   "cell_type": "code",
   "execution_count": 3,
   "metadata": {},
   "outputs": [],
   "source": [
    "%matplotlib inline\n",
    "import tricorder\n",
    "import numpy as np"
   ]
  },
  {
   "cell_type": "code",
   "execution_count": 4,
   "metadata": {
    "collapsed": true
   },
   "outputs": [],
   "source": [
    "dset_fname = '/nfs/slac/des/fs1/g/sims/mbaumer/3pt_sims/new/dark_matter/DISTANCE0.15_0.3nside1024nJack30'\n",
    "config_fname = '/nfs/slac/des/fs1/g/sims/mbaumer/3pt_sims/new/results/test4.config'"
   ]
  },
  {
   "cell_type": "code",
   "execution_count": 2,
   "metadata": {
    "collapsed": true
   },
   "outputs": [],
   "source": [
    "tricorder.write_default_config('test4')"
   ]
  },
  {
   "cell_type": "code",
   "execution_count": 5,
   "metadata": {
    "collapsed": true
   },
   "outputs": [],
   "source": [
    "corr = tricorder.PixelCorrelation(dset_fname,config_fname)"
   ]
  },
  {
   "cell_type": "code",
   "execution_count": 6,
   "metadata": {},
   "outputs": [
    {
     "name": "stdout",
     "output_type": "stream",
     "text": [
      "nbar for this run is:  0.833566448386\n"
     ]
    }
   ],
   "source": [
    "corr.make_treecorr_cat()"
   ]
  },
  {
   "cell_type": "code",
   "execution_count": 7,
   "metadata": {},
   "outputs": [
    {
     "name": "stdout",
     "output_type": "stream",
     "text": [
      "2PCF took 1.15320515633\n"
     ]
    }
   ],
   "source": [
    "corr.compute_2pt_pix()"
   ]
  },
  {
   "cell_type": "code",
   "execution_count": 8,
   "metadata": {},
   "outputs": [
    {
     "data": {
      "text/plain": [
       "[<matplotlib.lines.Line2D at 0x7fef6d591910>]"
      ]
     },
     "execution_count": 8,
     "metadata": {},
     "output_type": "execute_result"
    },
    {
     "data": {
      "image/png": "[encoded data removed]",
      "text/plain": [
       "<matplotlib.figure.Figure at 0x7fef91b03f50>"
      ]
     },
     "metadata": {},
     "output_type": "display_data"
    }
   ],
   "source": [
    "import matplotlib.pyplot as plt\n",
    "plt.loglog(np.exp(corr.kk.logr),corr.kk.xi)"
   ]
  },
  {
   "cell_type": "code",
   "execution_count": 33,
   "metadata": {},
   "outputs": [
    {
     "name": "stdout",
     "output_type": "stream",
     "text": [
      "3PCF took 314.111320972\n"
     ]
    }
   ],
   "source": [
    "corr.compute_3pt_pix()"
   ]
  },
  {
   "cell_type": "code",
   "execution_count": 34,
   "metadata": {},
   "outputs": [
    {
     "data": {
      "text/plain": [
       "array([[[  0.00000000e+00,   0.00000000e+00,   0.00000000e+00, ...,\n",
       "           0.00000000e+00,   0.00000000e+00,   0.00000000e+00],\n",
       "        [  0.00000000e+00,   0.00000000e+00,   0.00000000e+00, ...,\n",
       "           0.00000000e+00,   0.00000000e+00,   0.00000000e+00],\n",
       "        [  0.00000000e+00,   0.00000000e+00,   0.00000000e+00, ...,\n",
       "           0.00000000e+00,   0.00000000e+00,   0.00000000e+00],\n",
       "        ..., \n",
       "        [  2.27598149e+00,   3.36797547e+00,  -2.05822641e-01, ...,\n",
       "          -5.03708806e+00,   4.55991824e-01,   2.27598161e+00],\n",
       "        [ -1.00000000e+00,   3.36797547e+00,  -5.91012203e-01, ...,\n",
       "           1.22834767e+00,  -1.00000000e+00,   1.91198365e+00],\n",
       "        [  8.18475191e-01,   2.49438038e+00,   0.00000000e+00, ...,\n",
       "           0.00000000e+00,   7.47190189e-01,  -2.48753669e-01]],\n",
       "\n",
       "       [[  0.00000000e+00,   0.00000000e+00,   0.00000000e+00, ...,\n",
       "           0.00000000e+00,   0.00000000e+00,   0.00000000e+00],\n",
       "        [  0.00000000e+00,   0.00000000e+00,   0.00000000e+00, ...,\n",
       "           0.00000000e+00,   0.00000000e+00,   0.00000000e+00],\n",
       "        [  0.00000000e+00,   0.00000000e+00,   0.00000000e+00, ...,\n",
       "           0.00000000e+00,   0.00000000e+00,   0.00000000e+00],\n",
       "        ..., \n",
       "        [  1.18398774e+00,  -1.44688103e+00,  -1.43246576e+00, ...,\n",
       "          -9.19039768e-01,   5.89048459e+00,  -1.00000000e+00],\n",
       "        [  1.49598598e+00,  -5.07586177e-01,   4.69735923e+00, ...,\n",
       "          -2.33282583e+00,  -8.27348177e-01,  -1.00000000e+00],\n",
       "        [ -2.21596977e-01,  -4.47866474e-01,   0.00000000e+00, ...,\n",
       "           0.00000000e+00,   1.01598868e+00,  -1.27131135e-01]],\n",
       "\n",
       "       [[  0.00000000e+00,   0.00000000e+00,   0.00000000e+00, ...,\n",
       "           0.00000000e+00,   0.00000000e+00,   0.00000000e+00],\n",
       "        [  0.00000000e+00,   0.00000000e+00,   0.00000000e+00, ...,\n",
       "           0.00000000e+00,   0.00000000e+00,   0.00000000e+00],\n",
       "        [  0.00000000e+00,   0.00000000e+00,   0.00000000e+00, ...,\n",
       "           0.00000000e+00,   0.00000000e+00,   0.00000000e+00],\n",
       "        ..., \n",
       "        [  1.01598868e+00,  -2.54201950e+00,   6.49812904e+00, ...,\n",
       "           1.84991638e+00,   6.60126402e+00,  -2.93387837e-02],\n",
       "        [  4.24157047e+00,  -5.45717144e-01,  -6.89517440e+00, ...,\n",
       "          -1.79670444e+00,  -5.90075086e-01,   1.72998461e+00],\n",
       "        [  1.46010259e-01,  -3.49895815e-01,   0.00000000e+00, ...,\n",
       "          -1.00000000e+00,   2.37076925e-01,   1.41285217e-01]],\n",
       "\n",
       "       ..., \n",
       "       [[  0.00000000e+00,   0.00000000e+00,   0.00000000e+00, ...,\n",
       "           0.00000000e+00,   0.00000000e+00,   0.00000000e+00],\n",
       "        [  0.00000000e+00,   0.00000000e+00,   0.00000000e+00, ...,\n",
       "           0.00000000e+00,   0.00000000e+00,   0.00000000e+00],\n",
       "        [  0.00000000e+00,   0.00000000e+00,   0.00000000e+00, ...,\n",
       "           0.00000000e+00,   0.00000000e+00,   0.00000000e+00],\n",
       "        ..., \n",
       "        [  1.62469845e-02,   1.13489678e-01,  -1.14867082e-02, ...,\n",
       "          -8.87302306e-02,  -4.91618169e-03,  -1.11473563e-01],\n",
       "        [ -5.63408684e-02,   4.07271464e-02,  -8.59460383e-02, ...,\n",
       "           2.60107182e-02,   2.04778162e-02,  -3.65250880e-02],\n",
       "        [ -2.62474866e-02,   8.56776371e-02,   2.34150160e-02, ...,\n",
       "          -7.55263351e-02,   2.52388320e-02,   4.12207806e-02]],\n",
       "\n",
       "       [[  0.00000000e+00,   0.00000000e+00,   0.00000000e+00, ...,\n",
       "           0.00000000e+00,   0.00000000e+00,   0.00000000e+00],\n",
       "        [  0.00000000e+00,   0.00000000e+00,   0.00000000e+00, ...,\n",
       "           0.00000000e+00,   0.00000000e+00,   0.00000000e+00],\n",
       "        [  0.00000000e+00,   0.00000000e+00,   0.00000000e+00, ...,\n",
       "           0.00000000e+00,   0.00000000e+00,   0.00000000e+00],\n",
       "        ..., \n",
       "        [  8.98956074e-02,  -1.17852305e-01,   9.93305887e-03, ...,\n",
       "           2.68147166e-02,  -9.41684185e-02,   2.64815925e-02],\n",
       "        [ -2.36115935e-02,  -4.86023232e-02,  -7.43234154e-02, ...,\n",
       "          -7.57168024e-02,  -5.73517929e-02,  -6.82370436e-02],\n",
       "        [  9.99502961e-02,  -3.02382974e-02,   9.38081913e-03, ...,\n",
       "           1.08408840e-01,   2.40629278e-02,  -8.33709012e-02]],\n",
       "\n",
       "       [[  0.00000000e+00,   0.00000000e+00,   0.00000000e+00, ...,\n",
       "           0.00000000e+00,   0.00000000e+00,   0.00000000e+00],\n",
       "        [  0.00000000e+00,   0.00000000e+00,   0.00000000e+00, ...,\n",
       "           0.00000000e+00,   0.00000000e+00,   0.00000000e+00],\n",
       "        [  0.00000000e+00,   0.00000000e+00,   0.00000000e+00, ...,\n",
       "           0.00000000e+00,   0.00000000e+00,   0.00000000e+00],\n",
       "        ..., \n",
       "        [  1.50591894e-02,   2.20580861e-02,  -1.66057171e-01, ...,\n",
       "          -1.31941934e-01,  -2.49519466e-02,   2.23303478e-02],\n",
       "        [  3.07188390e-02,  -4.94063648e-02,  -1.03749282e-01, ...,\n",
       "           1.06768577e-03,   9.79718863e-02,   3.05590756e-02],\n",
       "        [ -8.83859365e-03,  -9.00877892e-03,   3.09513240e-02, ...,\n",
       "          -7.50639962e-02,  -8.97712222e-02,  -2.07143599e-03]]])"
      ]
     },
     "execution_count": 34,
     "metadata": {},
     "output_type": "execute_result"
    }
   ],
   "source": [
    "corr.kkk.zeta"
   ]
  },
  {
   "cell_type": "code",
   "execution_count": 10,
   "metadata": {},
   "outputs": [
    {
     "ename": "AttributeError",
     "evalue": "'NoneType' object has no attribute 'zeta'",
     "output_type": "error",
     "traceback": [
      "\u001b[0;31m---------------------------------------------------------------------------\u001b[0m",
      "\u001b[0;31mAttributeError\u001b[0m                            Traceback (most recent call last)",
      "\u001b[0;32m<ipython-input-10-86f3598b16ae>\u001b[0m in \u001b[0;36m<module>\u001b[0;34m()\u001b[0m\n\u001b[0;32m----> 1\u001b[0;31m \u001b[0mcorr\u001b[0m\u001b[0;34m.\u001b[0m\u001b[0mwrite\u001b[0m\u001b[0;34m(\u001b[0m\u001b[0;34m)\u001b[0m\u001b[0;34m\u001b[0m\u001b[0m\n\u001b[0m",
      "\u001b[0;32m/u/ki/mbaumer/DES_work/3pt_functions/tricorder/tricorder/tricorder.py\u001b[0m in \u001b[0;36mwrite\u001b[0;34m(self)\u001b[0m\n\u001b[1;32m    115\u001b[0m         \u001b[0mstdout\u001b[0m\u001b[0;34m.\u001b[0m\u001b[0mflush\u001b[0m\u001b[0;34m(\u001b[0m\u001b[0;34m)\u001b[0m\u001b[0;34m\u001b[0m\u001b[0m\n\u001b[1;32m    116\u001b[0m         \u001b[0mself\u001b[0m\u001b[0;34m.\u001b[0m\u001b[0mkkk\u001b[0m \u001b[0;34m=\u001b[0m \u001b[0mkkk\u001b[0m\u001b[0;34m\u001b[0m\u001b[0m\n\u001b[0;32m--> 117\u001b[0;31m \u001b[0;34m\u001b[0m\u001b[0m\n\u001b[0m\u001b[1;32m    118\u001b[0m     \u001b[0;32mdef\u001b[0m \u001b[0mwrite\u001b[0m\u001b[0;34m(\u001b[0m\u001b[0mself\u001b[0m\u001b[0;34m)\u001b[0m\u001b[0;34m:\u001b[0m\u001b[0;34m\u001b[0m\u001b[0m\n\u001b[1;32m    119\u001b[0m         \u001b[0mdataname\u001b[0m \u001b[0;34m=\u001b[0m \u001b[0mself\u001b[0m\u001b[0;34m.\u001b[0m\u001b[0mdset_fname\u001b[0m\u001b[0;34m.\u001b[0m\u001b[0msplit\u001b[0m\u001b[0;34m(\u001b[0m\u001b[0;34m'/'\u001b[0m\u001b[0;34m)\u001b[0m\u001b[0;34m[\u001b[0m\u001b[0;34m-\u001b[0m\u001b[0;36m1\u001b[0m\u001b[0;34m]\u001b[0m\u001b[0;34m\u001b[0m\u001b[0m\n",
      "\u001b[0;31mAttributeError\u001b[0m: 'NoneType' object has no attribute 'zeta'"
     ]
    }
   ],
   "source": [
    "corr.write()"
   ]
  },
  {
   "cell_type": "code",
   "execution_count": 36,
   "metadata": {},
   "outputs": [
    {
     "name": "stdout",
     "output_type": "stream",
     "text": [
      "dummy_test.config      dummy_test.xi.npy\r\n",
      "dummy_test.weight.npy  dummy_test.zeta.npy\r\n"
     ]
    }
   ],
   "source": [
    "!ls $DES_SIMS/new/results"
   ]
  },
  {
   "cell_type": "code",
   "execution_count": 37,
   "metadata": {},
   "outputs": [
    {
     "name": "stdout",
     "output_type": "stream",
     "text": [
      "['bsub', '-W', '47:00', '-R', 'rusage[mem=8000]', 'python', '-c', \"import tricorder; corr = tricorder.PixelCorrelation('/nfs/slac/des/fs1/g/sims/mbaumer/3pt_sims/new/redmagicHD/ZSPEC0.2_0.3nside1024nJack30', '/nfs/slac/des/fs1/g/sims/mbaumer/3pt_sims/new/results/dummy_test.config'); corr.run()\"]\n"
     ]
    }
   ],
   "source": [
    "corr.submit()"
   ]
  },
  {
   "cell_type": "code",
   "execution_count": 39,
   "metadata": {
    "collapsed": true
   },
   "outputs": [],
   "source": [
    "corr2 = tricorder.PixelCorrelation(dset_fname,config_fname)"
   ]
  },
  {
   "cell_type": "code",
   "execution_count": 40,
   "metadata": {},
   "outputs": [
    {
     "name": "stdout",
     "output_type": "stream",
     "text": [
      "2PCF took 0.474263906479\n",
      "3PCF took 269.794221163\n"
     ]
    }
   ],
   "source": [
    "corr2.run()"
   ]
  },
  {
   "cell_type": "markdown",
   "metadata": {},
   "source": [
    "## jk tests"
   ]
  },
  {
   "cell_type": "code",
   "execution_count": 3,
   "metadata": {
    "collapsed": true
   },
   "outputs": [],
   "source": [
    "jk_corr = tricorder.PixelCorrelation(dset_fname,config_fname,10)"
   ]
  },
  {
   "cell_type": "code",
   "execution_count": 4,
   "metadata": {
    "collapsed": true
   },
   "outputs": [],
   "source": [
    "jk_corr.make_treecorr_cat()"
   ]
  },
  {
   "cell_type": "code",
   "execution_count": 5,
   "metadata": {},
   "outputs": [
    {
     "name": "stdout",
     "output_type": "stream",
     "text": [
      "2PCF took 0.917853116989\n"
     ]
    }
   ],
   "source": [
    "jk_corr.compute_2pt_pix()"
   ]
  },
  {
   "cell_type": "code",
   "execution_count": 6,
   "metadata": {},
   "outputs": [
    {
     "name": "stdout",
     "output_type": "stream",
     "text": [
      "2PCF took 0.813350915909\n"
     ]
    }
   ],
   "source": [
    "jk_corr2 = tricorder.PixelCorrelation(dset_fname,config_fname,3)\n",
    "jk_corr2.make_treecorr_cat()\n",
    "jk_corr2.compute_2pt_pix()"
   ]
  },
  {
   "cell_type": "code",
   "execution_count": 7,
   "metadata": {},
   "outputs": [
    {
     "data": {
      "text/plain": [
       "[<matplotlib.lines.Line2D at 0x7fccc995c210>]"
      ]
     },
     "execution_count": 7,
     "metadata": {},
     "output_type": "execute_result"
    },
    {
     "data": {
      "image/png": "[encoded data removed]",
      "text/plain": [
       "<matplotlib.figure.Figure at 0x7fccb3d2e150>"
      ]
     },
     "metadata": {},
     "output_type": "display_data"
    }
   ],
   "source": [
    "import matplotlib.pyplot as plt\n",
    "plt.loglog(np.exp(jk_corr.kk.logr),jk_corr.kk.xi)\n",
    "plt.loglog(np.exp(jk_corr2.kk.logr),jk_corr2.kk.xi)"
   ]
  },
  {
   "cell_type": "code",
   "execution_count": 4,
   "metadata": {
    "collapsed": true
   },
   "outputs": [],
   "source": [
    "jk_corr.submit()"
   ]
  },
  {
   "cell_type": "code",
   "execution_count": null,
   "metadata": {
    "collapsed": true
   },
   "outputs": [],
   "source": []
  }
 ],
 "metadata": {
  "kernelspec": {
   "display_name": "Python 2",
   "language": "python",
   "name": "python2"
  },
  "language_info": {
   "codemirror_mode": {
    "name": "ipython",
    "version": 2
   },
   "file_extension": ".py",
   "mimetype": "text/x-python",
   "name": "python",
   "nbconvert_exporter": "python",
   "pygments_lexer": "ipython2",
   "version": "2.7.12"
  }
 },
 "nbformat": 4,
 "nbformat_minor": 2
}
