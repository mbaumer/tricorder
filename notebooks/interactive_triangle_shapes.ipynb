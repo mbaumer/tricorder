{
 "cells": [
  {
   "cell_type": "code",
   "execution_count": 1,
   "metadata": {
    "collapsed": false
   },
   "outputs": [],
   "source": [
    "%matplotlib inline\n",
    "import matplotlib.pyplot as plt\n",
    "from ipywidgets import interact, interactive, fixed\n",
    "import numpy as np"
   ]
  },
  {
   "cell_type": "code",
   "execution_count": 4,
   "metadata": {
    "collapsed": true
   },
   "outputs": [],
   "source": [
    "def drawTriangle(r,u,v):\n",
    "    d2 = float(r)\n",
    "    d3 = u*r\n",
    "    #d1 = abs(v)*d3+d2 #treecorr definition\n",
    "    d1 = np.abs(v)*d3+d2 \n",
    "    #law of cosines\n",
    "    cosine = (d2**2 + d3**2 - d1**2)/(2*d2*d3+1e-9)\n",
    "    sine = np.sqrt(1-cosine**2)\n",
    "    points = [[0,0],[d2,0],[d3*cosine,d3*sine]]\n",
    "    plt.figure(figsize=(6,6))\n",
    "    p = plt.Polygon(points,closed=True)\n",
    "    ax = plt.gca()\n",
    "    ax.add_patch(p)\n",
    "    plt.xlim(-1,1.1)\n",
    "    plt.ylim(-.6,1.6)\n",
    "    plt.text(-.75,1.2,r'$\\theta$ = '+str(np.arccos(cosine)/np.pi*180))\n",
    "    plt.text(-.75,1.1,'d1 = '+str(d1))\n",
    "    plt.text(-.75,1.0,'d2 = '+str(d2))\n",
    "    plt.text(-.75,0.9,'d3 = '+str(d3))\n",
    "    "
   ]
  },
  {
   "cell_type": "code",
   "execution_count": 5,
   "metadata": {
    "collapsed": false
   },
   "outputs": [
    {
     "data": {
      "image/png": "[encoded data removed]",
      "text/plain": [
       "<matplotlib.figure.Figure at 0x106b067d0>"
      ]
     },
     "metadata": {},
     "output_type": "display_data"
    }
   ],
   "source": [
    "interact(drawTriangle,r=1,u=(0,1,0.01),v=(-1,1,0.01))"
   ]
  },
  {
   "cell_type": "code",
   "execution_count": 40,
   "metadata": {
    "collapsed": true
   },
   "outputs": [],
   "source": [
    "def drawCollapsedTriangle(d1,d3overd1,v):\n",
    "    d1 = float(d1)\n",
    "    d3 = d3overd1*d1\n",
    "    #d1 = abs(v)*d3+d2 #treecorr definition\n",
    "    d2 = d1-np.abs(v)*d3 \n",
    "    #law of cosines\n",
    "    cosine = (d1**2 + d3**2 - d2**2)/(2*d1*d3+1e-9)\n",
    "    sine = np.sqrt(1-cosine**2)\n",
    "    points = [[0,0],[d1,0],[d3*cosine,d3*sine]]\n",
    "    plt.figure(figsize=(6,6))\n",
    "    p = plt.Polygon(points,closed=True)\n",
    "    ax = plt.gca()\n",
    "    ax.add_patch(p)\n",
    "    plt.xlim(-1,1.1)\n",
    "    plt.ylim(-.6,1.6)\n",
    "    plt.text(-.75,1.2,r'$\\theta$ = '+str(np.arccos(cosine)/np.pi*180))\n",
    "    plt.text(-.75,1.1,'d1 = '+str(d1))\n",
    "    plt.text(-.75,1.0,'d2 = '+str(d2))\n",
    "    plt.text(-.75,0.9,'d3 = '+str(d3))\n",
    "    \n",
    "def drawCollapsedTriangle(r,u,v):\n",
    "    d2 = float(r)\n",
    "    d3 = u*d2\n",
    "    #d1 = abs(v)*d3+d2 #treecorr definition\n",
    "    d1 = d2+np.abs(v)*d3 \n",
    "    #law of cosines\n",
    "    cosine = (d1**2 + d3**2 - d2**2)/(2*d1*d3+1e-9)\n",
    "    sine = np.sqrt(1-cosine**2)\n",
    "    points = [[0,0],[d1,0],[d3*cosine,d3*sine]]\n",
    "    plt.figure(figsize=(6,6))\n",
    "    p = plt.Polygon(points,closed=True)\n",
    "    ax = plt.gca()\n",
    "    ax.add_patch(p)\n",
    "    plt.xlim(-1,1.1)\n",
    "    plt.ylim(-.6,1.6)\n",
    "    plt.text(-.75,1.2,r'$\\theta$ = '+str(np.arccos(cosine)/np.pi*180))\n",
    "    plt.text(-.75,1.1,'d1 = '+str(d1))\n",
    "    plt.text(-.75,1.0,'d2 = '+str(d2))\n",
    "    plt.text(-.75,0.9,'d3 = '+str(d3))"
   ]
  },
  {
   "cell_type": "code",
   "execution_count": 42,
   "metadata": {
    "collapsed": false
   },
   "outputs": [
    {
     "data": {
      "image/png": "[encoded data removed]",
      "text/plain": [
       "<matplotlib.figure.Figure at 0x1070a9410>"
      ]
     },
     "metadata": {},
     "output_type": "display_data"
    }
   ],
   "source": [
    "#interact(drawCollapsedTriangle,d1=1,d3overd1=(0,1,0.01),v=(-1,1,0.01))\n",
    "interact(drawCollapsedTriangle,r=(0,1,.01),u=(0,1,0.01),v=(-1,1,0.01))"
   ]
  },
  {
   "cell_type": "code",
   "execution_count": 8,
   "metadata": {
    "collapsed": false
   },
   "outputs": [],
   "source": [
    "def computeAngularBins(r,u,v):\n",
    "    d2 = float(r)\n",
    "    d3 = u*r\n",
    "    d1 = np.abs(v)*d3+d2\n",
    "    #law of cosines\n",
    "    cosine = (d2**2 + d3**2 - d1**2)/(2*d2*d3+1e-9)\n",
    "    bins = np.arccos(cosine)/np.pi\n",
    "    return bins"
   ]
  },
  {
   "cell_type": "code",
   "execution_count": 27,
   "metadata": {
    "collapsed": true
   },
   "outputs": [],
   "source": [
    "def computeCollapsedAngularBins(d1,d3overd1,v):\n",
    "    d1 = float(d1)\n",
    "    d3 = d3overd1*d1\n",
    "    #d1 = abs(v)*d3+d2 #treecorr definition\n",
    "    d2 = d1-np.abs(v)*d3 \n",
    "    #law of cosines\n",
    "    cosine = (d1**2 + d3**2 - d2**2)/(2*d1*d3+1e-9)\n",
    "    bins = np.arccos(cosine)/np.pi\n",
    "    return bins"
   ]
  },
  {
   "cell_type": "code",
   "execution_count": 35,
   "metadata": {
    "collapsed": false
   },
   "outputs": [
    {
     "data": {
      "text/plain": [
       "7.8630295207377801"
      ]
     },
     "execution_count": 35,
     "metadata": {},
     "output_type": "execute_result"
    }
   ],
   "source": [
    "180*computeCollapsedAngularBins(1,.51,0.981)"
   ]
  },
  {
   "cell_type": "code",
   "execution_count": 11,
   "metadata": {
    "collapsed": false
   },
   "outputs": [
    {
     "name": "stdout",
     "output_type": "stream",
     "text": [
      "0.999986895392\n"
     ]
    },
    {
     "data": {
      "image/png": "[encoded data removed]",
      "text/plain": [
       "<matplotlib.figure.Figure at 0x1073e0bd0>"
      ]
     },
     "metadata": {},
     "output_type": "display_data"
    }
   ],
   "source": [
    "import itertools\n",
    "uvec = np.arange(.4,.6,step=.01)\n",
    "vvec = np.arange(-1,1,step=.01)\n",
    "bins = []\n",
    "for combo in itertools.product(uvec,vvec):\n",
    "    bins.append(computeAngularBins(1,combo[0],combo[1]))\n",
    "plt.hist(np.array(bins),bins=10,range=(0,1))\n",
    "plt.xlabel(r'$\\theta / \\pi$')\n",
    "print max(bins)"
   ]
  },
  {
   "cell_type": "code",
   "execution_count": 22,
   "metadata": {
    "collapsed": false
   },
   "outputs": [
    {
     "data": {
      "text/plain": [
       "165.90705360578139"
      ]
     },
     "execution_count": 22,
     "metadata": {},
     "output_type": "execute_result"
    }
   ],
   "source": [
    "(180)*computeAngularBins(1,.51,.980)"
   ]
  },
  {
   "cell_type": "code",
   "execution_count": 4,
   "metadata": {
    "collapsed": false
   },
   "outputs": [],
   "source": [
    "from astropy.cosmology import Planck13 as cosmo"
   ]
  },
  {
   "cell_type": "code",
   "execution_count": 22,
   "metadata": {
    "collapsed": false
   },
   "outputs": [
    {
     "data": {
      "text/latex": [
       "$20.636612 \\; \\mathrm{Mpc}$"
      ],
      "text/plain": [
       "<Quantity 20.63661152062752 Mpc>"
      ]
     },
     "execution_count": 22,
     "metadata": {},
     "output_type": "execute_result"
    }
   ],
   "source": [
    "cosmo.angular_diameter_distance(.5)/(2*np.pi)/10"
   ]
  },
  {
   "cell_type": "code",
   "execution_count": 26,
   "metadata": {
    "collapsed": false
   },
   "outputs": [
    {
     "name": "stdout",
     "output_type": "stream",
     "text": [
      "0.106051207316 arcsec / kpc\n",
      "0.159076810974 arcsec / kpc\n"
     ]
    }
   ],
   "source": [
    "print cosmo.arcsec_per_kpc_comoving(0.5)\n",
    "print cosmo.arcsec_per_kpc_proper(0.5)"
   ]
  },
  {
   "cell_type": "code",
   "execution_count": 147,
   "metadata": {
    "collapsed": false
   },
   "outputs": [
    {
     "data": {
      "text/plain": [
       "0.30712"
      ]
     },
     "execution_count": 147,
     "metadata": {},
     "output_type": "execute_result"
    }
   ],
   "source": [
    "cosmo.Om(0)"
   ]
  },
  {
   "cell_type": "code",
   "execution_count": 30,
   "metadata": {
    "collapsed": false
   },
   "outputs": [
    {
     "data": {
      "text/plain": [
       "0.9747981904731382"
      ]
     },
     "execution_count": 30,
     "metadata": {},
     "output_type": "execute_result"
    }
   ],
   "source": [
    "(cosmo.kpc_comoving_per_arcmin(.6)/cosmo.h).value/1000"
   ]
  },
  {
   "cell_type": "code",
   "execution_count": 165,
   "metadata": {
    "collapsed": false
   },
   "outputs": [
    {
     "data": {
      "text/latex": [
       "$377.17628 \\; \\mathrm{\\frac{kpc}{{}^{\\prime}}}$"
      ],
      "text/plain": [
       "<Quantity 377.1762812732532 kpc / arcmin>"
      ]
     },
     "execution_count": 165,
     "metadata": {},
     "output_type": "execute_result"
    }
   ],
   "source": [
    "6,12,18 Mpc/h"
   ]
  },
  {
   "cell_type": "code",
   "execution_count": 129,
   "metadata": {
    "collapsed": false
   },
   "outputs": [
    {
     "data": {
      "text/plain": [
       "0.5"
      ]
     },
     "execution_count": 129,
     "metadata": {},
     "output_type": "execute_result"
    }
   ],
   "source": [
    "cosmo.scale_factor(1)"
   ]
  },
  {
   "cell_type": "code",
   "execution_count": 131,
   "metadata": {
    "collapsed": false
   },
   "outputs": [
    {
     "data": {
      "text/latex": [
       "$1.7778901 \\; \\mathrm{}$"
      ],
      "text/plain": [
       "<Quantity 1.7778901341656876>"
      ]
     },
     "execution_count": 131,
     "metadata": {},
     "output_type": "execute_result"
    }
   ],
   "source": [
    "cosmo.H(1)/cosmo.H(0)"
   ]
  },
  {
   "cell_type": "code",
   "execution_count": 119,
   "metadata": {
    "collapsed": false
   },
   "outputs": [
    {
     "data": {
      "text/latex": [
       "$67.77 \\; \\mathrm{\\frac{km}{Mpc\\,s}}$"
      ],
      "text/plain": [
       "<Quantity 67.77 km / (Mpc s)>"
      ]
     },
     "execution_count": 119,
     "metadata": {},
     "output_type": "execute_result"
    }
   ],
   "source": [
    "cosmo.H(0)"
   ]
  },
  {
   "cell_type": "code",
   "execution_count": 21,
   "metadata": {
    "collapsed": false
   },
   "outputs": [
    {
     "data": {
      "text/plain": [
       "199.17716325638128"
      ]
     },
     "execution_count": 21,
     "metadata": {},
     "output_type": "execute_result"
    }
   ],
   "source": [
    "(cosmo.kpc_comoving_per_arcmin(.7)/cosmo.h).value/1000*180"
   ]
  },
  {
   "cell_type": "code",
   "execution_count": null,
   "metadata": {
    "collapsed": true
   },
   "outputs": [],
   "source": []
  }
 ],
 "metadata": {
  "kernelspec": {
   "display_name": "Python 2",
   "language": "python",
   "name": "python2"
  },
  "language_info": {
   "codemirror_mode": {
    "name": "ipython",
    "version": 2
   },
   "file_extension": ".py",
   "mimetype": "text/x-python",
   "name": "python",
   "nbconvert_exporter": "python",
   "pygments_lexer": "ipython2",
   "version": "2.7.12"
  }
 },
 "nbformat": 4,
 "nbformat_minor": 0
}
